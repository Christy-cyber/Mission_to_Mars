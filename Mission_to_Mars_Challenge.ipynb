{
 "cells": [
  {
   "cell_type": "code",
   "execution_count": 1,
   "id": "b082f244",
   "metadata": {},
   "outputs": [],
   "source": [
    "# Import Splinter and BeautifulSoup\n",
    "from splinter import Browser\n",
    "from bs4 import BeautifulSoup as soup\n",
    "from webdriver_manager.chrome import ChromeDriverManager\n",
    "import pandas as pd\n"
   ]
  },
  {
   "cell_type": "code",
   "execution_count": 2,
   "id": "ded535b8",
   "metadata": {},
   "outputs": [
    {
     "name": "stderr",
     "output_type": "stream",
     "text": [
      "\n",
      "\n",
      "====== WebDriver manager ======\n",
      "Current google-chrome version is 98.0.4758\n",
      "Get LATEST chromedriver version for 98.0.4758 google-chrome\n",
      "Trying to download new driver from https://chromedriver.storage.googleapis.com/98.0.4758.102/chromedriver_win32.zip\n",
      "Driver has been saved in cache [C:\\Users\\Dr. Carter\\.wdm\\drivers\\chromedriver\\win32\\98.0.4758.102]\n"
     ]
    }
   ],
   "source": [
    "# Setup splinter/executable path\n",
    "executable_path = {'executable_path': ChromeDriverManager().install()}\n",
    "browser = Browser('chrome', **executable_path, headless=False)"
   ]
  },
  {
   "cell_type": "markdown",
   "id": "d453af30",
   "metadata": {},
   "source": [
    "### Visit Mars NASA News site"
   ]
  },
  {
   "cell_type": "code",
   "execution_count": 3,
   "id": "284a5d94",
   "metadata": {},
   "outputs": [
    {
     "data": {
      "text/plain": [
       "True"
      ]
     },
     "execution_count": 3,
     "metadata": {},
     "output_type": "execute_result"
    }
   ],
   "source": [
    "# Visit the mars nasa news site\n",
    "url = 'https://redplanetscience.com'\n",
    "browser.visit(url)\n",
    "# Optional delay for loading the page\n",
    "browser.is_element_present_by_css('div.list_text', wait_time=1)"
   ]
  },
  {
   "cell_type": "code",
   "execution_count": 4,
   "id": "4ba4dece",
   "metadata": {},
   "outputs": [],
   "source": [
    "# Setup HTML parser\n",
    "html = browser.html\n",
    "news_soup = soup(html, 'html.parser')\n",
    "slide_elem = news_soup.select_one('div.list_text')"
   ]
  },
  {
   "cell_type": "code",
   "execution_count": 5,
   "id": "70e858af",
   "metadata": {},
   "outputs": [
    {
     "data": {
      "text/plain": [
       "<div class=\"content_title\">Mars Scientists Investigate Ancient Life in Australia</div>"
      ]
     },
     "execution_count": 5,
     "metadata": {},
     "output_type": "execute_result"
    }
   ],
   "source": [
    "# Assign title and summary text to variables we will reference later\n",
    "slide_elem.find('div', class_='content_title')"
   ]
  },
  {
   "cell_type": "code",
   "execution_count": 6,
   "id": "c2967979",
   "metadata": {},
   "outputs": [
    {
     "data": {
      "text/plain": [
       "'Mars Scientists Investigate Ancient Life in Australia'"
      ]
     },
     "execution_count": 6,
     "metadata": {},
     "output_type": "execute_result"
    }
   ],
   "source": [
    "# Use the parent element to find the first `a` tag and save it as `news_title`\n",
    "news_title = slide_elem.find('div', class_='content_title').get_text()\n",
    "news_title"
   ]
  },
  {
   "cell_type": "code",
   "execution_count": 7,
   "id": "63d46200",
   "metadata": {},
   "outputs": [
    {
     "data": {
      "text/plain": [
       "\"Teams with NASA's Mars 2020 and ESA's ExoMars practiced hunting for fossilized microbial life in the Australian Outback in preparation for their Red Planet missions. \""
      ]
     },
     "execution_count": 7,
     "metadata": {},
     "output_type": "execute_result"
    }
   ],
   "source": [
    "# Use the parent element to find the paragraph text\n",
    "news_p = slide_elem.find('div', class_='article_teaser_body').get_text()\n",
    "news_p"
   ]
  },
  {
   "cell_type": "markdown",
   "id": "2be8186d",
   "metadata": {},
   "source": [
    "### Featured Images JPL"
   ]
  },
  {
   "cell_type": "code",
   "execution_count": 8,
   "id": "04db10c3",
   "metadata": {},
   "outputs": [],
   "source": [
    "# Visit URL\n",
    "url = 'https://spaceimages-mars.com'\n",
    "browser.visit(url)"
   ]
  },
  {
   "cell_type": "code",
   "execution_count": 9,
   "id": "402325e3",
   "metadata": {},
   "outputs": [],
   "source": [
    "# Find and click the full image button\n",
    "full_image_elem = browser.find_by_tag('button')[1]\n",
    "full_image_elem.click()"
   ]
  },
  {
   "cell_type": "code",
   "execution_count": 10,
   "id": "543b557d",
   "metadata": {},
   "outputs": [],
   "source": [
    "# Parse the resulting html with soup\n",
    "html = browser.html\n",
    "img_soup = soup(html, 'html.parser')"
   ]
  },
  {
   "cell_type": "code",
   "execution_count": 11,
   "id": "b5f8f4f9",
   "metadata": {},
   "outputs": [
    {
     "data": {
      "text/plain": [
       "'image/featured/mars2.jpg'"
      ]
     },
     "execution_count": 11,
     "metadata": {},
     "output_type": "execute_result"
    }
   ],
   "source": [
    "# Find the relative image url\n",
    "img_url_rel = img_soup.find('img', class_='fancybox-image').get('src')\n",
    "img_url_rel"
   ]
  },
  {
   "cell_type": "code",
   "execution_count": 12,
   "id": "b6037d3a",
   "metadata": {},
   "outputs": [
    {
     "data": {
      "text/plain": [
       "'https://spaceimages-mars.com/image/featured/mars2.jpg'"
      ]
     },
     "execution_count": 12,
     "metadata": {},
     "output_type": "execute_result"
    }
   ],
   "source": [
    "# Use the base URL to create an absolute URL\n",
    "img_url = f'https://spaceimages-mars.com/{img_url_rel}'\n",
    "img_url"
   ]
  },
  {
   "cell_type": "markdown",
   "id": "47c161ed",
   "metadata": {},
   "source": [
    "### Mars Facts"
   ]
  },
  {
   "cell_type": "code",
   "execution_count": 13,
   "id": "1e831e76",
   "metadata": {},
   "outputs": [
    {
     "data": {
      "text/html": [
       "<div>\n",
       "<style scoped>\n",
       "    .dataframe tbody tr th:only-of-type {\n",
       "        vertical-align: middle;\n",
       "    }\n",
       "\n",
       "    .dataframe tbody tr th {\n",
       "        vertical-align: top;\n",
       "    }\n",
       "\n",
       "    .dataframe thead th {\n",
       "        text-align: right;\n",
       "    }\n",
       "</style>\n",
       "<table border=\"1\" class=\"dataframe\">\n",
       "  <thead>\n",
       "    <tr style=\"text-align: right;\">\n",
       "      <th></th>\n",
       "      <th>Mars</th>\n",
       "      <th>Earth</th>\n",
       "    </tr>\n",
       "    <tr>\n",
       "      <th>description</th>\n",
       "      <th></th>\n",
       "      <th></th>\n",
       "    </tr>\n",
       "  </thead>\n",
       "  <tbody>\n",
       "    <tr>\n",
       "      <th>Mars - Earth Comparison</th>\n",
       "      <td>Mars</td>\n",
       "      <td>Earth</td>\n",
       "    </tr>\n",
       "    <tr>\n",
       "      <th>Diameter:</th>\n",
       "      <td>6,779 km</td>\n",
       "      <td>12,742 km</td>\n",
       "    </tr>\n",
       "    <tr>\n",
       "      <th>Mass:</th>\n",
       "      <td>6.39 × 10^23 kg</td>\n",
       "      <td>5.97 × 10^24 kg</td>\n",
       "    </tr>\n",
       "    <tr>\n",
       "      <th>Moons:</th>\n",
       "      <td>2</td>\n",
       "      <td>1</td>\n",
       "    </tr>\n",
       "    <tr>\n",
       "      <th>Distance from Sun:</th>\n",
       "      <td>227,943,824 km</td>\n",
       "      <td>149,598,262 km</td>\n",
       "    </tr>\n",
       "    <tr>\n",
       "      <th>Length of Year:</th>\n",
       "      <td>687 Earth days</td>\n",
       "      <td>365.24 days</td>\n",
       "    </tr>\n",
       "    <tr>\n",
       "      <th>Temperature:</th>\n",
       "      <td>-87 to -5 °C</td>\n",
       "      <td>-88 to 58°C</td>\n",
       "    </tr>\n",
       "  </tbody>\n",
       "</table>\n",
       "</div>"
      ],
      "text/plain": [
       "                                    Mars            Earth\n",
       "description                                              \n",
       "Mars - Earth Comparison             Mars            Earth\n",
       "Diameter:                       6,779 km        12,742 km\n",
       "Mass:                    6.39 × 10^23 kg  5.97 × 10^24 kg\n",
       "Moons:                                 2                1\n",
       "Distance from Sun:        227,943,824 km   149,598,262 km\n",
       "Length of Year:           687 Earth days      365.24 days\n",
       "Temperature:                -87 to -5 °C      -88 to 58°C"
      ]
     },
     "execution_count": 13,
     "metadata": {},
     "output_type": "execute_result"
    }
   ],
   "source": [
    "# Harvest table from website using pandas, set column titles, set index\n",
    "df = pd.read_html('https://galaxyfacts-mars.com')[0]\n",
    "df.columns=['description', 'Mars', 'Earth']\n",
    "df.set_index('description', inplace=True)\n",
    "df"
   ]
  },
  {
   "cell_type": "code",
   "execution_count": 14,
   "id": "75d4d1c7",
   "metadata": {},
   "outputs": [
    {
     "data": {
      "text/plain": [
       "'<table border=\"1\" class=\"dataframe\">\\n  <thead>\\n    <tr style=\"text-align: right;\">\\n      <th></th>\\n      <th>Mars</th>\\n      <th>Earth</th>\\n    </tr>\\n    <tr>\\n      <th>description</th>\\n      <th></th>\\n      <th></th>\\n    </tr>\\n  </thead>\\n  <tbody>\\n    <tr>\\n      <th>Mars - Earth Comparison</th>\\n      <td>Mars</td>\\n      <td>Earth</td>\\n    </tr>\\n    <tr>\\n      <th>Diameter:</th>\\n      <td>6,779 km</td>\\n      <td>12,742 km</td>\\n    </tr>\\n    <tr>\\n      <th>Mass:</th>\\n      <td>6.39 × 10^23 kg</td>\\n      <td>5.97 × 10^24 kg</td>\\n    </tr>\\n    <tr>\\n      <th>Moons:</th>\\n      <td>2</td>\\n      <td>1</td>\\n    </tr>\\n    <tr>\\n      <th>Distance from Sun:</th>\\n      <td>227,943,824 km</td>\\n      <td>149,598,262 km</td>\\n    </tr>\\n    <tr>\\n      <th>Length of Year:</th>\\n      <td>687 Earth days</td>\\n      <td>365.24 days</td>\\n    </tr>\\n    <tr>\\n      <th>Temperature:</th>\\n      <td>-87 to -5 °C</td>\\n      <td>-88 to 58°C</td>\\n    </tr>\\n  </tbody>\\n</table>'"
      ]
     },
     "execution_count": 14,
     "metadata": {},
     "output_type": "execute_result"
    }
   ],
   "source": [
    "# Convert df back to HTML ready code\n",
    "df.to_html()"
   ]
  },
  {
   "cell_type": "markdown",
   "id": "4bd5212b",
   "metadata": {},
   "source": [
    "## D1: Scrape High-Resolution Mars’ Hemisphere Images and Titles"
   ]
  },
  {
   "cell_type": "markdown",
   "id": "da98fb25",
   "metadata": {},
   "source": [
    "### Hemispheres"
   ]
  },
  {
   "cell_type": "code",
   "execution_count": 15,
   "id": "0db5d4b5",
   "metadata": {},
   "outputs": [],
   "source": [
    "# 1. Use browser to visit the URL \n",
    "url = 'https://marshemispheres.com/'\n",
    "browser.visit(url)"
   ]
  },
  {
   "cell_type": "code",
   "execution_count": 16,
   "id": "65d519c3",
   "metadata": {
    "scrolled": true
   },
   "outputs": [
    {
     "name": "stdout",
     "output_type": "stream",
     "text": [
      "{'https://marshemispheres.com/images/full.jpg': 'Cerberus Hemisphere Enhanced', 'https://marshemispheres.com/images/schiaparelli_enhanced-full.jpg': 'Schiaparelli Hemisphere Enhanced', 'https://marshemispheres.com/images/syrtis_major_enhanced-full.jpg': 'Syrtis Major Hemisphere Enhanced', 'https://marshemispheres.com/images/valles_marineris_enhanced-full.jpg': 'Valles Marineris Hemisphere Enhanced'}\n"
     ]
    }
   ],
   "source": [
    "#import time \n",
    "#time.sleep(5)\n",
    "# 2. Create a list to hold the images and titles.\n",
    "hemisphere_image_urls = []\n",
    "hemisphere_image_titles = []\n",
    "\n",
    "# Parse the resulting html with soup\n",
    "html = browser.html\n",
    "img_soup = soup(html, 'html.parser')\n",
    "\n",
    "\n",
    "# Find and click thumbnail to navigate to next page\n",
    "thumb_image_elem = browser.find_by_css('a.product-item img') ##---find by \"thumbnail image\"\n",
    "\n",
    "for image in range(len(thumb_image_elem)):\n",
    "        \n",
    "    browser.find_by_css('a.product-item img')[image].click()\n",
    "    img_url = browser.find_by_text('Sample')\n",
    "    title = browser.find_by_css('h2.title').text\n",
    "    \n",
    "      \n",
    "    hemisphere_image_urls.append(img_url['href'])\n",
    "    hemisphere_image_titles.append(title)\n",
    "    browser.back()\n",
    "\n",
    "    \n",
    "print(hemisphere_image_urls)\n",
    "print(hemisphere_image_titles)\n",
    "\n",
    "#hemispheres = dict(zip(hemisphere_image_urls, hemisphere_image_titles))\n",
    "#print(hemispheres)\n",
    "\n",
    "#print(image.find('img'))\n",
    "#print(img_url['href'])\n",
    "#print(thumb_image_elem[image].click())\n",
    "\n",
    "#Scrape the Title\n",
    "    #title = img_soup.find('h2').text \n",
    "    #title\n",
    "\n",
    "\n",
    "#thumb_image_elem\n",
    "# this works\n",
    "# browser.find_by_css('a.product-item img')[0].click()\n",
    "# thumb_image_elem[0].click()\n",
    "\n",
    "# img_url_rel = browser.find_by_text('Sample')\n",
    "# print(img_url_rel['href'])\n",
    "# print(browser.find_by_css('h2.title').text)\n",
    "# browser.back()\n",
    "\n",
    "\n",
    "# #thumb_image_elem[1].click()\n",
    "# browser.find_by_css('a.product-item img')[1].click()\n",
    "# img_url_rel = browser.find_by_text('Sample')\n",
    "# print(img_url_rel['href'])\n",
    "# browser.back()\n",
    "\n",
    "\n",
    "# #thumb_image_elem[2].click()\n",
    "# browser.find_by_css('a.product-item img')[2].click()\n",
    "# img_url_rel = browser.find_by_text('Sample')\n",
    "# print(img_url_rel['href'])\n",
    "# browser.back()\n",
    "\n",
    "# #thumb_image_elem[3].click()\n",
    "# browser.find_by_css('a.product-item img')[3].click()\n",
    "# img_url_rel = browser.find_by_text('Sample')\n",
    "# print(img_url_rel['href'])\n",
    "# browser.back()\n",
    "\n",
    "\n",
    "\n",
    "\n",
    "#thumb_image_elem\n",
    "#thumb_image_elem[https://marshemispheres.com/'href'].click()\n",
    "#thumb_image_elem = img_soup.find_all('a', class_=\"product-item\")\n",
    "#thumb_image_elem[0].find('img')\n",
    "\n",
    "# Parse the resulting html with soup\n",
    "#html = browser.html\n",
    "#img_soup = soup(html, 'html.parser')\n",
    "\n",
    "# Get the link to the full image\n",
    "#img_url_rel = img_soup.find('a.sample', class_ = ['href'])\n",
    "#img_url_rel\n",
    "#this works\n",
    "# Find and click the full image button\n",
    "#img_url_rel = browser.click_link_by_text('Sample')\n",
    "\n",
    "#these work\n",
    "#img_url_rel = browser.find_by_text('Sample')\n",
    "#img_url_rel['href']\n",
    "\n",
    "#this works\n",
    "#full_image = browser.find_by_tag('Sample')\n",
    "#full_image\n",
    "\n",
    "\n",
    "#for image in range(len(thumb_image_elem)):\n",
    "#   print(thumb_image_elem[image].click())\n",
    "    \n",
    "    #    print(image.find('img'))\n",
    "\n",
    "\n",
    "# 3. Write code to retrieve the image urls and titles for each hemisphere.\n",
    "# Iterate through each thumbnail image\n",
    "#thumb = soup\n",
    "#thumb_img = img_soup.find('img', class_ = 'thumb')\n",
    "#thumb_img.click()\n",
    "\n",
    "\n",
    "\n",
    "\n",
    "\n",
    "# Parse the resulting html with soup\n",
    "#html = browser.html\n",
    "#img_soup = soup(html, 'html.parser')\n",
    "#img_soup\n",
    "\n",
    "# find the relative image url\n",
    "#hemisphere_image_urls = img_soup.find('img', class_='item').get('src')#img_url_rel--search for Sample 1st instance and href\n",
    "#hemisphere_image_urls\n",
    "\n",
    "# Use the base url to create an absolute url\n",
    "#img_url = f'https://spaceimages-mars.com/{img_url_rel}'\n",
    "#img_url\n",
    "\n",
    "# This works\n"
   ]
  },
  {
   "cell_type": "code",
   "execution_count": 17,
   "id": "e3264b50",
   "metadata": {},
   "outputs": [
    {
     "data": {
      "text/plain": [
       "{'https://marshemispheres.com/images/full.jpg': 'Cerberus Hemisphere Enhanced',\n",
       " 'https://marshemispheres.com/images/schiaparelli_enhanced-full.jpg': 'Schiaparelli Hemisphere Enhanced',\n",
       " 'https://marshemispheres.com/images/syrtis_major_enhanced-full.jpg': 'Syrtis Major Hemisphere Enhanced',\n",
       " 'https://marshemispheres.com/images/valles_marineris_enhanced-full.jpg': 'Valles Marineris Hemisphere Enhanced'}"
      ]
     },
     "execution_count": 17,
     "metadata": {},
     "output_type": "execute_result"
    }
   ],
   "source": [
    "# 4. Print the list that holds the dictionary of each image url and title.\n",
    "hemispheres"
   ]
  },
  {
   "cell_type": "code",
   "execution_count": 18,
   "id": "f4870c40",
   "metadata": {},
   "outputs": [],
   "source": [
    "# 5. Quit the browser\n",
    "browser.quit()"
   ]
  }
 ],
 "metadata": {
  "kernelspec": {
   "display_name": "PythonData",
   "language": "python",
   "name": "pythondata"
  },
  "language_info": {
   "codemirror_mode": {
    "name": "ipython",
    "version": 3
   },
   "file_extension": ".py",
   "mimetype": "text/x-python",
   "name": "python",
   "nbconvert_exporter": "python",
   "pygments_lexer": "ipython3",
   "version": "3.7.11"
  }
 },
 "nbformat": 4,
 "nbformat_minor": 5
}
